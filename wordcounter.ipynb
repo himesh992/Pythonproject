{
  "nbformat": 4,
  "nbformat_minor": 0,
  "metadata": {
    "colab": {
      "provenance": []
    },
    "kernelspec": {
      "name": "python3",
      "display_name": "Python 3"
    },
    "language_info": {
      "name": "python"
    }
  },
  "cells": [
    {
      "cell_type": "code",
      "execution_count": 1,
      "metadata": {
        "colab": {
          "base_uri": "https://localhost:8080/"
        },
        "id": "gPb6cUcp4ivY",
        "outputId": "7b1ce2f9-28b7-4df9-df5f-90cce0e0aaa7"
      },
      "outputs": [
        {
          "output_type": "stream",
          "name": "stdout",
          "text": [
            "Enter your text: Hello how are you\n",
            "Total words: 4\n",
            "Total characters (excluding spaces): 14\n"
          ]
        }
      ],
      "source": [
        "def word_counter(text):\n",
        "    words = text.split()\n",
        "    num_words = len(words)\n",
        "    num_chars = len(text.replace(\" \", \"\"))  # Excluding spaces for character count\n",
        "    return num_words, num_chars\n",
        "\n",
        "if __name__ == \"__main__\":\n",
        "    text = input(\"Enter your text: \")\n",
        "    words, chars = word_counter(text)\n",
        "    print(f\"Total words: {words}\")\n",
        "    print(f\"Total characters (excluding spaces): {chars}\")\n"
      ]
    }
  ]
}