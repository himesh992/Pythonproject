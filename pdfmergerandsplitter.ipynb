{
  "nbformat": 4,
  "nbformat_minor": 0,
  "metadata": {
    "colab": {
      "provenance": []
    },
    "kernelspec": {
      "name": "python3",
      "display_name": "Python 3"
    },
    "language_info": {
      "name": "python"
    }
  },
  "cells": [
    {
      "cell_type": "code",
      "execution_count": 1,
      "metadata": {
        "colab": {
          "base_uri": "https://localhost:8080/"
        },
        "id": "WFDtqgKYbQoF",
        "outputId": "6e8d5207-edd3-4012-a8d5-a496efb5b5b8"
      },
      "outputs": [
        {
          "output_type": "stream",
          "name": "stdout",
          "text": [
            "Collecting PyPDF2\n",
            "  Downloading pypdf2-3.0.1-py3-none-any.whl.metadata (6.8 kB)\n",
            "Downloading pypdf2-3.0.1-py3-none-any.whl (232 kB)\n",
            "\u001b[2K   \u001b[90m━━━━━━━━━━━━━━━━━━━━━━━━━━━━━━━━━━━━━━━━\u001b[0m \u001b[32m232.6/232.6 kB\u001b[0m \u001b[31m4.1 MB/s\u001b[0m eta \u001b[36m0:00:00\u001b[0m\n",
            "\u001b[?25hInstalling collected packages: PyPDF2\n",
            "Successfully installed PyPDF2-3.0.1\n"
          ]
        }
      ],
      "source": [
        "!pip install PyPDF2\n"
      ]
    },
    {
      "cell_type": "code",
      "source": [
        "import PyPDF2\n",
        "\n",
        "# Function to merge PDFs\n",
        "def merge_pdfs(pdf_list, output_filename):\n",
        "    merger = PyPDF2.PdfMerger()\n",
        "    for pdf in pdf_list:\n",
        "        merger.append(pdf)\n",
        "    merger.write(output_filename)\n",
        "    merger.close()\n",
        "    print(f\"✅ Merged PDF saved as: {output_filename}\")\n",
        "\n",
        "# Function to split a PDF into separate pages\n",
        "def split_pdf(input_pdf):\n",
        "    with open(input_pdf, \"rb\") as file:\n",
        "        reader = PyPDF2.PdfReader(file)\n",
        "        for i in range(len(reader.pages)):\n",
        "            writer = PyPDF2.PdfWriter()\n",
        "            writer.add_page(reader.pages[i])\n",
        "            output_filename = f\"split_page_{i+1}.pdf\"\n",
        "            with open(output_filename, \"wb\") as output:\n",
        "                writer.write(output)\n",
        "            print(f\"✅ Page {i+1} saved as: {output_filename}\")\n",
        "\n",
        "# User input to choose operation\n",
        "print(\"\\n📄 PDF Merger & Splitter\")\n",
        "print(\"1. Merge PDFs\")\n",
        "print(\"2. Split PDF\")\n",
        "choice = input(\"Enter your choice (1/2): \")\n",
        "\n",
        "if choice == \"1\":\n",
        "    pdf_files = input(\"Enter PDF filenames (comma-separated): \").split(\",\")\n",
        "    output_file = input(\"Enter output filename (e.g., merged.pdf): \")\n",
        "    merge_pdfs([pdf.strip() for pdf in pdf_files], output_file)\n",
        "\n",
        "elif choice == \"2\":\n",
        "    pdf_file = input(\"Enter PDF filename to split: \")\n",
        "    split_pdf(pdf_file)\n",
        "\n",
        "else:\n",
        "    print(\"❌ Invalid choice. Please select 1 or 2.\")\n"
      ],
      "metadata": {
        "colab": {
          "base_uri": "https://localhost:8080/"
        },
        "id": "KKKcfCombWin",
        "outputId": "5d2fb1fe-aefe-4676-9df0-3b0106a7adac"
      },
      "execution_count": null,
      "outputs": [
        {
          "name": "stdout",
          "output_type": "stream",
          "text": [
            "\n",
            "📄 PDF Merger & Splitter\n",
            "1. Merge PDFs\n",
            "2. Split PDF\n",
            "Enter your choice (1/2): 1\n"
          ]
        }
      ]
    }
  ]
}