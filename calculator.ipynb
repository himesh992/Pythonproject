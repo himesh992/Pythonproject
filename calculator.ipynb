{
  "nbformat": 4,
  "nbformat_minor": 0,
  "metadata": {
    "colab": {
      "provenance": []
    },
    "kernelspec": {
      "name": "python3",
      "display_name": "Python 3"
    },
    "language_info": {
      "name": "python"
    }
  },
  "cells": [
    {
      "cell_type": "code",
      "execution_count": 1,
      "metadata": {
        "colab": {
          "base_uri": "https://localhost:8080/"
        },
        "id": "cjjBM2eT0QSR",
        "outputId": "b2fddd6a-3284-4643-ef6e-3cb35ea993b0"
      },
      "outputs": [
        {
          "output_type": "stream",
          "name": "stdout",
          "text": [
            "\n",
            "📌 Simple Calculator\n",
            "1. Add\n",
            "2. Subtract\n",
            "3. Multiply\n",
            "4. Divide\n",
            "5. Exit\n",
            "Choose an option (1-5): 1\n",
            "Enter first number: 18\n",
            "Enter second number: 20\n",
            "✅ Result: 18.0 + 20.0 = 38.0\n",
            "\n",
            "📌 Simple Calculator\n",
            "1. Add\n",
            "2. Subtract\n",
            "3. Multiply\n",
            "4. Divide\n",
            "5. Exit\n",
            "Choose an option (1-5): 2\n",
            "Enter first number: 80\n",
            "Enter second number: 75\n",
            "✅ Result: 80.0 - 75.0 = 5.0\n",
            "\n",
            "📌 Simple Calculator\n",
            "1. Add\n",
            "2. Subtract\n",
            "3. Multiply\n",
            "4. Divide\n",
            "5. Exit\n",
            "Choose an option (1-5): 3\n",
            "Enter first number: 99\n",
            "Enter second number: 87\n",
            "✅ Result: 99.0 × 87.0 = 8613.0\n",
            "\n",
            "📌 Simple Calculator\n",
            "1. Add\n",
            "2. Subtract\n",
            "3. Multiply\n",
            "4. Divide\n",
            "5. Exit\n",
            "Choose an option (1-5): 3\n",
            "Enter first number: 48\n",
            "Enter second number: 47\n",
            "✅ Result: 48.0 × 47.0 = 2256.0\n",
            "\n",
            "📌 Simple Calculator\n",
            "1. Add\n",
            "2. Subtract\n",
            "3. Multiply\n",
            "4. Divide\n",
            "5. Exit\n",
            "Choose an option (1-5): 5\n",
            "👋 Exiting... Have a great day!\n"
          ]
        }
      ],
      "source": [
        "def add(a, b):\n",
        "    return a + b\n",
        "\n",
        "def subtract(a, b):\n",
        "    return a - b\n",
        "\n",
        "def multiply(a, b):\n",
        "    return a * b\n",
        "\n",
        "def divide(a, b):\n",
        "    if b == 0:\n",
        "        return \"Error! Division by zero.\"\n",
        "    return a / b\n",
        "\n",
        "while True:\n",
        "    print(\"\\n📌 Simple Calculator\")\n",
        "    print(\"1. Add\")\n",
        "    print(\"2. Subtract\")\n",
        "    print(\"3. Multiply\")\n",
        "    print(\"4. Divide\")\n",
        "    print(\"5. Exit\")\n",
        "\n",
        "    choice = input(\"Choose an option (1-5): \")\n",
        "\n",
        "    if choice == \"5\":\n",
        "        print(\"👋 Exiting... Have a great day!\")\n",
        "        break\n",
        "\n",
        "    if choice in [\"1\", \"2\", \"3\", \"4\"]:\n",
        "        num1 = float(input(\"Enter first number: \"))\n",
        "        num2 = float(input(\"Enter second number: \"))\n",
        "\n",
        "        if choice == \"1\":\n",
        "            print(f\"✅ Result: {num1} + {num2} = {add(num1, num2)}\")\n",
        "        elif choice == \"2\":\n",
        "            print(f\"✅ Result: {num1} - {num2} = {subtract(num1, num2)}\")\n",
        "        elif choice == \"3\":\n",
        "            print(f\"✅ Result: {num1} × {num2} = {multiply(num1, num2)}\")\n",
        "        elif choice == \"4\":\n",
        "            print(f\"✅ Result: {num1} ÷ {num2} = {divide(num1, num2)}\")\n",
        "    else:\n",
        "        print(\"⚠️ Invalid choice! Please select a number from 1 to 5.\")\n"
      ]
    }
  ]
}